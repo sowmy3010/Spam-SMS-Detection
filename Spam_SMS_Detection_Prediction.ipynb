{
  "nbformat": 4,
  "nbformat_minor": 0,
  "metadata": {
    "colab": {
      "provenance": [],
      "authorship_tag": "ABX9TyMnStKWL8xrpoBTm1+DWKCx",
      "include_colab_link": true
    },
    "kernelspec": {
      "name": "python3",
      "display_name": "Python 3"
    },
    "language_info": {
      "name": "python"
    }
  },
  "cells": [
    {
      "cell_type": "markdown",
      "metadata": {
        "id": "view-in-github",
        "colab_type": "text"
      },
      "source": [
        "<a href=\"https://colab.research.google.com/github/sowmy3010/Spam-SMS-Detection/blob/main/Spam_SMS_Detection_Prediction.ipynb\" target=\"_parent\"><img src=\"https://colab.research.google.com/assets/colab-badge.svg\" alt=\"Open In Colab\"/></a>"
      ]
    },
    {
      "cell_type": "code",
      "source": [
        "import streamlit as st\n",
        "import pickle\n",
        "from sklearn.feature_extraction.text import CountVectorizer\n",
        "\n",
        "# Load the model\n",
        "model = pickle.load(open('Model.pkl', 'rb'))\n",
        "vectorizer = pickle.load(open('Vectorizer.pkl', 'rb'))"
      ],
      "metadata": {
        "id": "jI77vswIrMzT"
      },
      "execution_count": null,
      "outputs": []
    },
    {
      "cell_type": "code",
      "source": [
        "def Ham_or_Spam(message):\n",
        "    # Vectorize the new message using the same vectorizer used during training\n",
        "    message = vectorizer.transform([message])\n",
        "    # Make a prediction\n",
        "    prediction = model.predict(message)\n",
        "    # Map the predicted label back to the original label (ham or spam)\n",
        "    return prediction"
      ],
      "metadata": {
        "id": "IAdRdfYotYRB"
      },
      "execution_count": null,
      "outputs": []
    },
    {
      "cell_type": "code",
      "source": [
        "def main():\n",
        "    st.title(\"Spam SMS Detection\")\n",
        "\n",
        "    message = st.text_input(\"Message\", \"Drop your message here.\")\n",
        "\n",
        "    safe_html=\"\"\"\n",
        "      <div style=\"background-color:#F4D03F;padding:10px >\n",
        "       <h2 style=\"color:white;text-align:center;\">Safe Message</h2>\n",
        "       </div>\n",
        "    \"\"\"\n",
        "    danger_html=\"\"\"\n",
        "      <div style=\"background-color:#F08080;padding:10px >\n",
        "       <h2 style=\"color:black ;text-align:center;\"> Spam!!</h2>\n",
        "       </div>\n",
        "    \"\"\"\n",
        "\n",
        "    if st.button(\"Predict\"):\n",
        "        output = Ham_or_Spam(message)\n",
        "\n",
        "        if output == 1:\n",
        "            st.markdown(danger_html,unsafe_allow_html=True)\n",
        "        else:\n",
        "            st.markdown(safe_html,unsafe_allow_html=True)"
      ],
      "metadata": {
        "id": "CL7uKsnqtZ5o"
      },
      "execution_count": null,
      "outputs": []
    },
    {
      "cell_type": "code",
      "source": [
        "if __name__ == \"__main__\":\n",
        "    main()"
      ],
      "metadata": {
        "id": "scCyMwqotbgW"
      },
      "execution_count": null,
      "outputs": []
    }
  ]
}